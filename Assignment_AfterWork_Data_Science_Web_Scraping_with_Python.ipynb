{
 "cells": [
  {
   "cell_type": "markdown",
   "metadata": {
    "id": "7i5A-UY4Yruf"
   },
   "source": [
    "<font color='#2F4F4F'>To use this notebook on Colaboratory, you will need to make a copy of it. Go to File > Save a Copy in Drive. You can then use the new copy that will appear in the new tab.</font>\n"
   ]
  },
  {
   "cell_type": "markdown",
   "metadata": {
    "id": "0rOdcI2Nzhky"
   },
   "source": [
    "# <font color='#2F4F4F'>AfterWork Data Science: Web Scraping with Python</font>"
   ]
  },
  {
   "cell_type": "markdown",
   "metadata": {
    "id": "Tcso2rJCNAGq"
   },
   "source": [
    "## <font color='#2F4F4F'>Prerequisites</font>"
   ]
  },
  {
   "cell_type": "code",
   "execution_count": 47,
   "metadata": {},
   "outputs": [
    {
     "name": "stdout",
     "output_type": "stream",
     "text": [
      "Requirement already satisfied: lxml in c:\\users\\jkaruria\\appdata\\local\\programs\\python\\python310\\lib\\site-packages (4.9.2)"
     ]
    },
    {
     "name": "stderr",
     "output_type": "stream",
     "text": [
      "\n",
      "[notice] A new release of pip available: 22.3 -> 22.3.1\n",
      "[notice] To update, run: python.exe -m pip install --upgrade pip\n"
     ]
    },
    {
     "name": "stdout",
     "output_type": "stream",
     "text": [
      "\n"
     ]
    }
   ],
   "source": [
    "!pip install lxml\n"
   ]
  },
  {
   "cell_type": "code",
   "execution_count": null,
   "metadata": {},
   "outputs": [],
   "source": []
  },
  {
   "cell_type": "code",
   "execution_count": null,
   "metadata": {},
   "outputs": [],
   "source": []
  },
  {
   "cell_type": "code",
   "execution_count": 48,
   "metadata": {
    "id": "QSHljMZTNCRI"
   },
   "outputs": [],
   "source": [
    "# We first import the required libraries\n",
    "# ---\n",
    "#\n",
    "import pandas as pd             # library for data manupation\n",
    "import requests                 # library for fetching a web page \n",
    "from bs4 import BeautifulSoup   # library for extrating contents from a webpage \n",
    "import requests\n",
    "from urllib3.exceptions import InsecureRequestWarning\n",
    "from urllib3 import disable_warnings\n",
    "\n",
    "disable_warnings(InsecureRequestWarning)"
   ]
  },
  {
   "cell_type": "markdown",
   "metadata": {
    "id": "CRmt1rRHgZRG"
   },
   "source": [
    "## <font color='#2F4F4F'>Step 1: Obtaining our Data</font>"
   ]
  },
  {
   "cell_type": "code",
   "execution_count": 49,
   "metadata": {
    "colab": {
     "base_uri": "https://localhost:8080/"
    },
    "id": "cM5TKD-P1h7Z",
    "outputId": "03fb1495-85f2-4b7c-e993-7039ad714575"
   },
   "outputs": [
    {
     "data": {
      "text/plain": [
       "<Response [200]>"
      ]
     },
     "execution_count": 49,
     "metadata": {},
     "output_type": "execute_result"
    }
   ],
   "source": [
    "# PigiaMe: https://www.pigiame.co.ke/it-software-jobs\n",
    "# ---\n",
    "#\n",
    "#pigia_me = requests.get('https://www.pigiame.co.ke/it-software-jobs')\n",
    "#pigia_me\n",
    "\n",
    "\n",
    "pigiame = requests.get('https://www.pigiame.co.ke/it-software-jobs', verify=False)\n",
    "\n",
    "pigiame"
   ]
  },
  {
   "cell_type": "code",
   "execution_count": 50,
   "metadata": {
    "colab": {
     "base_uri": "https://localhost:8080/"
    },
    "id": "OfUvfxrD1nQC",
    "outputId": "c2bee7f2-b2c1-424f-9d6f-a83e181b346d"
   },
   "outputs": [
    {
     "data": {
      "text/plain": [
       "<Response [200]>"
      ]
     },
     "execution_count": 50,
     "metadata": {},
     "output_type": "execute_result"
    }
   ],
   "source": [
    "# MyJobMag: https://www.myjobmag.co.ke/jobs-by-field/information-technology\n",
    "# ---\n",
    "#\n",
    "myjob = requests.get('https://www.myjobmag.co.ke/jobs-by-field/information-technology')\n",
    "myjob"
   ]
  },
  {
   "cell_type": "code",
   "execution_count": 51,
   "metadata": {
    "colab": {
     "base_uri": "https://localhost:8080/"
    },
    "id": "psWrYhRUQDJC",
    "outputId": "9d5109fc-678c-4340-9033-b93b1bda062b"
   },
   "outputs": [
    {
     "data": {
      "text/plain": [
       "<Response [200]>"
      ]
     },
     "execution_count": 51,
     "metadata": {},
     "output_type": "execute_result"
    }
   ],
   "source": [
    "# KenyanJob: https://www.kenyajob.com/job-vacancies-search-kenya?f%5B0%5D=im_field_offre_secteur%3A133\n",
    "# ---\n",
    "#\n",
    "KenyanJob = requests.get('https://www.kenyajob.com/job-vacancies-search-kenya?f%5B0%5D=im_field_offre_secteur%3A133', verify=False)\n",
    "\n",
    "KenyanJob"
   ]
  },
  {
   "cell_type": "markdown",
   "metadata": {
    "id": "h7iRb8U8hHNw"
   },
   "source": [
    "## <font color='#2F4F4F'>Step 2: Parsing</font>"
   ]
  },
  {
   "cell_type": "code",
   "execution_count": 52,
   "metadata": {
    "colab": {
     "base_uri": "https://localhost:8080/",
     "height": 235
    },
    "id": "AXWSK1kD2oeN",
    "outputId": "a6e47f42-2a27-4de7-bf1a-3abfd03114a0"
   },
   "outputs": [],
   "source": [
    "# Parsing our document: pigia_me\n",
    "# ---\n",
    "# \n",
    "soup_pigia_me = BeautifulSoup(pigiame.text, \"lxml\")\n",
    "\n",
    "\n",
    "\n"
   ]
  },
  {
   "cell_type": "code",
   "execution_count": 53,
   "metadata": {
    "id": "lrH9mgR82pzg"
   },
   "outputs": [],
   "source": [
    "# Parsing our document: my_job_mag\n",
    "# ---\n",
    "#  \n",
    "soup_myjob = BeautifulSoup(myjob.text, \"lxml\")"
   ]
  },
  {
   "cell_type": "code",
   "execution_count": 54,
   "metadata": {
    "id": "O0x-Wz03QP5O"
   },
   "outputs": [],
   "source": [
    "# Parsing our document: kenyan_job\n",
    "# ---\n",
    "# \n",
    "soup_KenyanJob = BeautifulSoup(KenyanJob.text, \"lxml\")"
   ]
  },
  {
   "cell_type": "markdown",
   "metadata": {
    "id": "_OxuOAIXhPl5"
   },
   "source": [
    "## <font color='#2F4F4F'>Step 3: Extracting Required Elements</font>"
   ]
  },
  {
   "cell_type": "code",
   "execution_count": 55,
   "metadata": {
    "colab": {
     "base_uri": "https://localhost:8080/",
     "height": 35
    },
    "id": "e2p147_LICKn",
    "outputId": "7ce11f80-ba1b-4c65-afc4-0ec8ef1aaf37"
   },
   "outputs": [
    {
     "name": "stdout",
     "output_type": "stream",
     "text": [
      "['Bioinformatic and Software Developer', 'IT Sales - Cybersecurity & Cloud', 'Executive, Support & Services', 'Data Engineer', 'Software Development Trainer', 'Oracle Database Administrator', 'UI/UX & Frontend Developer – Limuru, Kenya', 'IT Sales - Cybersecurity & Cloud', 'Wordpress and Shopify Web Designer', 'Entry level Software Developer']\n"
     ]
    }
   ],
   "source": [
    "# Each job is enclosed in 'div' class 'listings-cards__list-item'\n",
    "pigiame_job =  soup_pigia_me.find_all('div', class_= 'listings-cards__list-item')\n",
    "\n",
    "# 1. Extracting job titles and links: pigia me\n",
    "# ---\n",
    "\n",
    "# # 1. Extracting job titles\n",
    "#job_title_pigia_me  =  pigiame_job.find('div', class_='listing-card__header__title').get_text().replace('\\n', '')\n",
    "\n",
    "\n",
    "#Extract links\n",
    "\n",
    "# links are in href of class 'listing-card listing-card--tab listing-card--has-content listing-card--highlight-placeholder'\n",
    "#link_pigia_me = pigiame_job.find('div', class_='listing-card listing-card--tab listing-card--has-content listing-card--highlight-placeholder').a['href']\n",
    "\n",
    "\n",
    "#create a list for link and title\n",
    "pigiame_link_title = []\n",
    "pigiame_link_url = []\n",
    "\n",
    "# loop in through the pigiame website and colleact the link and title \n",
    "\n",
    "for p in pigiame_job:\n",
    "    # getting the title and links\n",
    "    job_title_pigia_me  =  p.find('div', class_='listing-card__header__title').get_text().replace('\\n', '')\n",
    "    link_pigia_me = p.find('div', class_='listing-card listing-card--tab listing-card--has-content listing-card--highlight-placeholder').a['href']\n",
    "\n",
    "    #appending the title and links to the list\n",
    "    # Then appending the text to our link_content list\n",
    "    pigiame_link_title.append(job_title_pigia_me)\n",
    "\n",
    "    # Then appending the text to our link_url list\n",
    "    pigiame_link_url.append(link_pigia_me)\n",
    "    \n",
    "print(pigiame_link_title)"
   ]
  },
  {
   "cell_type": "code",
   "execution_count": 56,
   "metadata": {
    "id": "NNLbrng_3QfA"
   },
   "outputs": [
    {
     "name": "stdout",
     "output_type": "stream",
     "text": [
      "['https://www.myjobmag.co.ke/job/corporate-staffing-corporate-staffing-3']\n",
      "['https://www.myjobmag.co.ke/job/corporate-staffing-corporate-staffing-3', 'https://www.myjobmag.co.ke/job/infrastructure-operations-engineer-safaricom-kenya']\n",
      "['https://www.myjobmag.co.ke/job/corporate-staffing-corporate-staffing-3', 'https://www.myjobmag.co.ke/job/infrastructure-operations-engineer-safaricom-kenya', 'https://www.myjobmag.co.ke/job/senior-associate-digital-transformation-kpmg']\n",
      "['https://www.myjobmag.co.ke/job/corporate-staffing-corporate-staffing-3', 'https://www.myjobmag.co.ke/job/infrastructure-operations-engineer-safaricom-kenya', 'https://www.myjobmag.co.ke/job/senior-associate-digital-transformation-kpmg', 'https://www.myjobmag.co.ke/job/integration-specialist-kcb-bank-kenya']\n",
      "['https://www.myjobmag.co.ke/job/corporate-staffing-corporate-staffing-3', 'https://www.myjobmag.co.ke/job/infrastructure-operations-engineer-safaricom-kenya', 'https://www.myjobmag.co.ke/job/senior-associate-digital-transformation-kpmg', 'https://www.myjobmag.co.ke/job/integration-specialist-kcb-bank-kenya', 'https://www.myjobmag.co.ke/job/ict-assistant-finn-church-aid-fca']\n",
      "['https://www.myjobmag.co.ke/job/corporate-staffing-corporate-staffing-3', 'https://www.myjobmag.co.ke/job/infrastructure-operations-engineer-safaricom-kenya', 'https://www.myjobmag.co.ke/job/senior-associate-digital-transformation-kpmg', 'https://www.myjobmag.co.ke/job/integration-specialist-kcb-bank-kenya', 'https://www.myjobmag.co.ke/job/ict-assistant-finn-church-aid-fca', 'https://www.myjobmag.co.ke/job/senior-full-stack-engineer-koko-networks-2']\n",
      "['https://www.myjobmag.co.ke/job/corporate-staffing-corporate-staffing-3', 'https://www.myjobmag.co.ke/job/infrastructure-operations-engineer-safaricom-kenya', 'https://www.myjobmag.co.ke/job/senior-associate-digital-transformation-kpmg', 'https://www.myjobmag.co.ke/job/integration-specialist-kcb-bank-kenya', 'https://www.myjobmag.co.ke/job/ict-assistant-finn-church-aid-fca', 'https://www.myjobmag.co.ke/job/senior-full-stack-engineer-koko-networks-2', 'https://www.myjobmag.co.ke/job/it-intern-path']\n",
      "['https://www.myjobmag.co.ke/job/corporate-staffing-corporate-staffing-3', 'https://www.myjobmag.co.ke/job/infrastructure-operations-engineer-safaricom-kenya', 'https://www.myjobmag.co.ke/job/senior-associate-digital-transformation-kpmg', 'https://www.myjobmag.co.ke/job/integration-specialist-kcb-bank-kenya', 'https://www.myjobmag.co.ke/job/ict-assistant-finn-church-aid-fca', 'https://www.myjobmag.co.ke/job/senior-full-stack-engineer-koko-networks-2', 'https://www.myjobmag.co.ke/job/it-intern-path', 'https://www.myjobmag.co.ke/job/systems-developer-cannon-general-insurance-k-ltd']\n",
      "['https://www.myjobmag.co.ke/job/corporate-staffing-corporate-staffing-3', 'https://www.myjobmag.co.ke/job/infrastructure-operations-engineer-safaricom-kenya', 'https://www.myjobmag.co.ke/job/senior-associate-digital-transformation-kpmg', 'https://www.myjobmag.co.ke/job/integration-specialist-kcb-bank-kenya', 'https://www.myjobmag.co.ke/job/ict-assistant-finn-church-aid-fca', 'https://www.myjobmag.co.ke/job/senior-full-stack-engineer-koko-networks-2', 'https://www.myjobmag.co.ke/job/it-intern-path', 'https://www.myjobmag.co.ke/job/systems-developer-cannon-general-insurance-k-ltd', 'https://www.myjobmag.co.ke/job/it-help-desk-coordinator-old-mutual-kenya']\n",
      "['https://www.myjobmag.co.ke/job/corporate-staffing-corporate-staffing-3', 'https://www.myjobmag.co.ke/job/infrastructure-operations-engineer-safaricom-kenya', 'https://www.myjobmag.co.ke/job/senior-associate-digital-transformation-kpmg', 'https://www.myjobmag.co.ke/job/integration-specialist-kcb-bank-kenya', 'https://www.myjobmag.co.ke/job/ict-assistant-finn-church-aid-fca', 'https://www.myjobmag.co.ke/job/senior-full-stack-engineer-koko-networks-2', 'https://www.myjobmag.co.ke/job/it-intern-path', 'https://www.myjobmag.co.ke/job/systems-developer-cannon-general-insurance-k-ltd', 'https://www.myjobmag.co.ke/job/it-help-desk-coordinator-old-mutual-kenya', 'https://www.myjobmag.co.ke/job/functional-developer-share-point-and-microsoft-d365-old-mutual-kenya']\n",
      "['https://www.myjobmag.co.ke/job/corporate-staffing-corporate-staffing-3', 'https://www.myjobmag.co.ke/job/infrastructure-operations-engineer-safaricom-kenya', 'https://www.myjobmag.co.ke/job/senior-associate-digital-transformation-kpmg', 'https://www.myjobmag.co.ke/job/integration-specialist-kcb-bank-kenya', 'https://www.myjobmag.co.ke/job/ict-assistant-finn-church-aid-fca', 'https://www.myjobmag.co.ke/job/senior-full-stack-engineer-koko-networks-2', 'https://www.myjobmag.co.ke/job/it-intern-path', 'https://www.myjobmag.co.ke/job/systems-developer-cannon-general-insurance-k-ltd', 'https://www.myjobmag.co.ke/job/it-help-desk-coordinator-old-mutual-kenya', 'https://www.myjobmag.co.ke/job/functional-developer-share-point-and-microsoft-d365-old-mutual-kenya', 'https://www.myjobmag.co.ke/job/senior-ict-officer-database-administrator-mount-kenya-university']\n",
      "['https://www.myjobmag.co.ke/job/corporate-staffing-corporate-staffing-3', 'https://www.myjobmag.co.ke/job/infrastructure-operations-engineer-safaricom-kenya', 'https://www.myjobmag.co.ke/job/senior-associate-digital-transformation-kpmg', 'https://www.myjobmag.co.ke/job/integration-specialist-kcb-bank-kenya', 'https://www.myjobmag.co.ke/job/ict-assistant-finn-church-aid-fca', 'https://www.myjobmag.co.ke/job/senior-full-stack-engineer-koko-networks-2', 'https://www.myjobmag.co.ke/job/it-intern-path', 'https://www.myjobmag.co.ke/job/systems-developer-cannon-general-insurance-k-ltd', 'https://www.myjobmag.co.ke/job/it-help-desk-coordinator-old-mutual-kenya', 'https://www.myjobmag.co.ke/job/functional-developer-share-point-and-microsoft-d365-old-mutual-kenya', 'https://www.myjobmag.co.ke/job/senior-ict-officer-database-administrator-mount-kenya-university', 'https://www.myjobmag.co.ke/job/kenya-livestock-commercialization-project-kenya-livestock-commercialization-project']\n",
      "['https://www.myjobmag.co.ke/job/corporate-staffing-corporate-staffing-3', 'https://www.myjobmag.co.ke/job/infrastructure-operations-engineer-safaricom-kenya', 'https://www.myjobmag.co.ke/job/senior-associate-digital-transformation-kpmg', 'https://www.myjobmag.co.ke/job/integration-specialist-kcb-bank-kenya', 'https://www.myjobmag.co.ke/job/ict-assistant-finn-church-aid-fca', 'https://www.myjobmag.co.ke/job/senior-full-stack-engineer-koko-networks-2', 'https://www.myjobmag.co.ke/job/it-intern-path', 'https://www.myjobmag.co.ke/job/systems-developer-cannon-general-insurance-k-ltd', 'https://www.myjobmag.co.ke/job/it-help-desk-coordinator-old-mutual-kenya', 'https://www.myjobmag.co.ke/job/functional-developer-share-point-and-microsoft-d365-old-mutual-kenya', 'https://www.myjobmag.co.ke/job/senior-ict-officer-database-administrator-mount-kenya-university', 'https://www.myjobmag.co.ke/job/kenya-livestock-commercialization-project-kenya-livestock-commercialization-project', 'https://www.myjobmag.co.ke/job/manager-atm-services-kcb-bank-kenya']\n",
      "['https://www.myjobmag.co.ke/job/corporate-staffing-corporate-staffing-3', 'https://www.myjobmag.co.ke/job/infrastructure-operations-engineer-safaricom-kenya', 'https://www.myjobmag.co.ke/job/senior-associate-digital-transformation-kpmg', 'https://www.myjobmag.co.ke/job/integration-specialist-kcb-bank-kenya', 'https://www.myjobmag.co.ke/job/ict-assistant-finn-church-aid-fca', 'https://www.myjobmag.co.ke/job/senior-full-stack-engineer-koko-networks-2', 'https://www.myjobmag.co.ke/job/it-intern-path', 'https://www.myjobmag.co.ke/job/systems-developer-cannon-general-insurance-k-ltd', 'https://www.myjobmag.co.ke/job/it-help-desk-coordinator-old-mutual-kenya', 'https://www.myjobmag.co.ke/job/functional-developer-share-point-and-microsoft-d365-old-mutual-kenya', 'https://www.myjobmag.co.ke/job/senior-ict-officer-database-administrator-mount-kenya-university', 'https://www.myjobmag.co.ke/job/kenya-livestock-commercialization-project-kenya-livestock-commercialization-project', 'https://www.myjobmag.co.ke/job/manager-atm-services-kcb-bank-kenya', 'https://www.myjobmag.co.ke/job/product-configuration-specialist-kcb-bank-kenya-2']\n",
      "['https://www.myjobmag.co.ke/job/corporate-staffing-corporate-staffing-3', 'https://www.myjobmag.co.ke/job/infrastructure-operations-engineer-safaricom-kenya', 'https://www.myjobmag.co.ke/job/senior-associate-digital-transformation-kpmg', 'https://www.myjobmag.co.ke/job/integration-specialist-kcb-bank-kenya', 'https://www.myjobmag.co.ke/job/ict-assistant-finn-church-aid-fca', 'https://www.myjobmag.co.ke/job/senior-full-stack-engineer-koko-networks-2', 'https://www.myjobmag.co.ke/job/it-intern-path', 'https://www.myjobmag.co.ke/job/systems-developer-cannon-general-insurance-k-ltd', 'https://www.myjobmag.co.ke/job/it-help-desk-coordinator-old-mutual-kenya', 'https://www.myjobmag.co.ke/job/functional-developer-share-point-and-microsoft-d365-old-mutual-kenya', 'https://www.myjobmag.co.ke/job/senior-ict-officer-database-administrator-mount-kenya-university', 'https://www.myjobmag.co.ke/job/kenya-livestock-commercialization-project-kenya-livestock-commercialization-project', 'https://www.myjobmag.co.ke/job/manager-atm-services-kcb-bank-kenya', 'https://www.myjobmag.co.ke/job/product-configuration-specialist-kcb-bank-kenya-2', 'https://www.myjobmag.co.ke/job/t24-coe-specialist-kcb-bank-kenya-3']\n",
      "['https://www.myjobmag.co.ke/job/corporate-staffing-corporate-staffing-3', 'https://www.myjobmag.co.ke/job/infrastructure-operations-engineer-safaricom-kenya', 'https://www.myjobmag.co.ke/job/senior-associate-digital-transformation-kpmg', 'https://www.myjobmag.co.ke/job/integration-specialist-kcb-bank-kenya', 'https://www.myjobmag.co.ke/job/ict-assistant-finn-church-aid-fca', 'https://www.myjobmag.co.ke/job/senior-full-stack-engineer-koko-networks-2', 'https://www.myjobmag.co.ke/job/it-intern-path', 'https://www.myjobmag.co.ke/job/systems-developer-cannon-general-insurance-k-ltd', 'https://www.myjobmag.co.ke/job/it-help-desk-coordinator-old-mutual-kenya', 'https://www.myjobmag.co.ke/job/functional-developer-share-point-and-microsoft-d365-old-mutual-kenya', 'https://www.myjobmag.co.ke/job/senior-ict-officer-database-administrator-mount-kenya-university', 'https://www.myjobmag.co.ke/job/kenya-livestock-commercialization-project-kenya-livestock-commercialization-project', 'https://www.myjobmag.co.ke/job/manager-atm-services-kcb-bank-kenya', 'https://www.myjobmag.co.ke/job/product-configuration-specialist-kcb-bank-kenya-2', 'https://www.myjobmag.co.ke/job/t24-coe-specialist-kcb-bank-kenya-3', 'https://www.myjobmag.co.ke/job/end-user-support-engineer-derisk-technologies-1']\n",
      "['https://www.myjobmag.co.ke/job/corporate-staffing-corporate-staffing-3', 'https://www.myjobmag.co.ke/job/infrastructure-operations-engineer-safaricom-kenya', 'https://www.myjobmag.co.ke/job/senior-associate-digital-transformation-kpmg', 'https://www.myjobmag.co.ke/job/integration-specialist-kcb-bank-kenya', 'https://www.myjobmag.co.ke/job/ict-assistant-finn-church-aid-fca', 'https://www.myjobmag.co.ke/job/senior-full-stack-engineer-koko-networks-2', 'https://www.myjobmag.co.ke/job/it-intern-path', 'https://www.myjobmag.co.ke/job/systems-developer-cannon-general-insurance-k-ltd', 'https://www.myjobmag.co.ke/job/it-help-desk-coordinator-old-mutual-kenya', 'https://www.myjobmag.co.ke/job/functional-developer-share-point-and-microsoft-d365-old-mutual-kenya', 'https://www.myjobmag.co.ke/job/senior-ict-officer-database-administrator-mount-kenya-university', 'https://www.myjobmag.co.ke/job/kenya-livestock-commercialization-project-kenya-livestock-commercialization-project', 'https://www.myjobmag.co.ke/job/manager-atm-services-kcb-bank-kenya', 'https://www.myjobmag.co.ke/job/product-configuration-specialist-kcb-bank-kenya-2', 'https://www.myjobmag.co.ke/job/t24-coe-specialist-kcb-bank-kenya-3', 'https://www.myjobmag.co.ke/job/end-user-support-engineer-derisk-technologies-1', 'https://www.myjobmag.co.ke/job/officer-it-operations-service-sbm-bank']\n",
      "['https://www.myjobmag.co.ke/job/corporate-staffing-corporate-staffing-3', 'https://www.myjobmag.co.ke/job/infrastructure-operations-engineer-safaricom-kenya', 'https://www.myjobmag.co.ke/job/senior-associate-digital-transformation-kpmg', 'https://www.myjobmag.co.ke/job/integration-specialist-kcb-bank-kenya', 'https://www.myjobmag.co.ke/job/ict-assistant-finn-church-aid-fca', 'https://www.myjobmag.co.ke/job/senior-full-stack-engineer-koko-networks-2', 'https://www.myjobmag.co.ke/job/it-intern-path', 'https://www.myjobmag.co.ke/job/systems-developer-cannon-general-insurance-k-ltd', 'https://www.myjobmag.co.ke/job/it-help-desk-coordinator-old-mutual-kenya', 'https://www.myjobmag.co.ke/job/functional-developer-share-point-and-microsoft-d365-old-mutual-kenya', 'https://www.myjobmag.co.ke/job/senior-ict-officer-database-administrator-mount-kenya-university', 'https://www.myjobmag.co.ke/job/kenya-livestock-commercialization-project-kenya-livestock-commercialization-project', 'https://www.myjobmag.co.ke/job/manager-atm-services-kcb-bank-kenya', 'https://www.myjobmag.co.ke/job/product-configuration-specialist-kcb-bank-kenya-2', 'https://www.myjobmag.co.ke/job/t24-coe-specialist-kcb-bank-kenya-3', 'https://www.myjobmag.co.ke/job/end-user-support-engineer-derisk-technologies-1', 'https://www.myjobmag.co.ke/job/officer-it-operations-service-sbm-bank', 'https://www.myjobmag.co.ke/job/it-audit-managers-kpmg']\n"
     ]
    }
   ],
   "source": [
    "# 2. Extracting job titles: my_job_mag\n",
    "# ---\n",
    "# \n",
    "#jobtitle_myjob = soup_myjob.find('div', {'class':'listing-card__header__title'})[2].get_text()\n",
    "\n",
    "#2. Extracting job titles\n",
    "#Jobtilte is under <li class=\"job-list-li\">\n",
    "#<ul>\n",
    "#<li class=\"job-logo\">\n",
    "#<a href=\"/jobs-at/cannon-general-insurance-k-ltd\"><img src=\"/company_logo/86/61466Cannon General Insurance (K) Ltd.png\" alt=\"Cannon General Insurance (K) Ltd logo\" width=\"100%\" height=\"auto\" title=\"Cannon General Insurance (K) Ltd logo\"></a>\n",
    "#</li>\n",
    "#<li class=\"job-info\">\n",
    "#<ul>\n",
    "#<li class=\"mag-b\">\n",
    "#<h2><a href=\"/job/systems-developer-cannon-general-insurance-k-ltd\">Systems Developer at Cannon General Insurance (K) Ltd</a></h2>\n",
    "#</li>\n",
    "\n",
    "\n",
    "\n",
    "#the job title and job link can be derived from 'li', class_ = 'mag-b'\n",
    "\n",
    "myjob = soup_myjob.find_all('li', class_ ='mag-b')\n",
    "\n",
    "#create a list for link and title\n",
    "myjob_link_title = []\n",
    "myjob_link_url = []\n",
    "\n",
    "\n",
    "#Extracting my job links and title\n",
    "\n",
    "for link in myjob :\n",
    "    myjob_link = 'https://www.myjobmag.co.ke' + link.find('h2').a['href']\n",
    "    myjob_title = link.find('h2').a.text\n",
    "    \n",
    "     # Then appending the text to our link_content list\n",
    "    myjob_link_title.append(myjob_title)\n",
    "\n",
    "    # Then appending the text to our link_url list\n",
    "    myjob_link_url.append(myjob_link)\n",
    "    \n",
    "    print(myjob_link_url)\n",
    "\n",
    "    "
   ]
  },
  {
   "cell_type": "code",
   "execution_count": 58,
   "metadata": {
    "id": "I0fQKn63QV0R"
   },
   "outputs": [
    {
     "name": "stdout",
     "output_type": "stream",
     "text": [
      "['JAVA EE / JAVA 8 Developer with SQL Skills', 'Senior Freelance Web Designer', 'Accountant/Administrator', 'CCTV and Fire Alarms Systems Technician', 'CCTV and Fire Alarms Systems Technician', 'Information Technology Sales Specialist', 'AWS Cloud Architect (M/F)', 'AWS Solutions Architect (M/F)', 'AZURE Solutions Architect (M/F)', 'Cloud Architect (M/F)', 'Cloud Computing and Virtualization Engineer (M/F)', 'Cloud Engineer (M/F)', 'Cloud Microservices Architect (M/F)', 'Cloud System Administrator (M/F)', 'Cloud System Integrator (M/F)', 'Cyber Security Engineer (M/F)', 'DATASTAGE Architect (M/F)', 'GENESYS Architect (M/F)', 'Network Architect (M/F)', 'ANGULAR Developer (M/F)', 'DevOps Engineer (M/F)', 'DOTNET Developer (M/F)', 'IOS Developer (M/F)', 'JAVA Developer (M/F)', 'JAVA JEE Developer (M/F)']\n"
     ]
    }
   ],
   "source": [
    "# 3. Extracting job titles: kenya_job\n",
    "# ---\n",
    "#\n",
    "# Each job is enclosed in 'div' class 'job-description-wrapper'\n",
    "kenyanjob_job =  soup_KenyanJob.find_all('div', class_= 'job-description-wrapper')\n",
    "\n",
    "# 1. Extracting job titles and links: \n",
    "# ---\n",
    "\n",
    "# # 1. Extracting job titles . Titles are in calss 'col-lg-5 col-md-5 col-sm-5 col-xs-12 job-title'.h5.a.text\n",
    "\n",
    "#kenyanjob_jobtitle  = kenyanjob_job.find('div', class_='col-lg-5 col-md-5 col-sm-5 col-xs-12 job-title').h5.a.text\n",
    "\n",
    "#Extract links\n",
    "\n",
    "# links are in calss 'col-lg-5 col-md-5 col-sm-5 col-xs-12 job-title'.h5.a['href']\n",
    "\n",
    "#kenyanjob_joblink  = 'https://www.kenyajob.com' + kenyanjob_job.find('div', class_='col-lg-5 col-md-5 col-sm-5 col-xs-12 job-title').h5.a['href']\n",
    "\n",
    "\n",
    "#create a list for link and title\n",
    "kenyajob_link_title = []\n",
    "kenyajob_link_url = []\n",
    "\n",
    "# loop in through the pigiame website and colleact the link and title \n",
    "\n",
    "for k in kenyanjob_job :\n",
    "    # getting the title and links\n",
    "    \n",
    "    kenyanjob_jobtitle  = k.find('div', class_='col-lg-5 col-md-5 col-sm-5 col-xs-12 job-title').h5.a.text\n",
    "    kenyanjob_joblink  = 'https://www.kenyajob.com' + k.find('div', class_='col-lg-5 col-md-5 col-sm-5 col-xs-12 job-title').h5.a['href']\n",
    "\n",
    "    #appending the title and links to the list\n",
    "    # Then appending the text to our link_content list\n",
    "    kenyajob_link_title.append(kenyanjob_jobtitle)\n",
    "\n",
    "    # Then appending the text to our link_url list\n",
    "    kenyajob_link_url.append(kenyanjob_joblink)\n",
    "    \n",
    "print(kenyajob_link_title)"
   ]
  },
  {
   "cell_type": "markdown",
   "metadata": {
    "id": "7ePXABAihaKn"
   },
   "source": [
    "## <font color='#2F4F4F'>Step 4: Saving our Data</font>"
   ]
  },
  {
   "cell_type": "code",
   "execution_count": 59,
   "metadata": {
    "id": "fsG9pQXk5f8y"
   },
   "outputs": [],
   "source": [
    "# Saving the scraped contents in a dataframe and preview our data\n",
    "# ---\n",
    "#pigiame dataframe\n",
    "df_pigiame = pd.DataFrame({\"Title\": pigiame_link_title , \"Link\": pigiame_link_url})\n",
    "df_pigiame.head()\n",
    "\n",
    "#pigiame dataframe\n",
    "df_myjob = pd.DataFrame({\"Title\":  myjob_link_title , \"Link\": myjob_link_url})\n",
    "\n",
    "\n",
    "#pigiame dataframe\n",
    "df_kenyajob = pd.DataFrame({\"Title\":kenyajob_link_title , \"Link\": kenyajob_link_url})\n"
   ]
  },
  {
   "cell_type": "code",
   "execution_count": 61,
   "metadata": {},
   "outputs": [
    {
     "data": {
      "text/html": [
       "<div>\n",
       "<style scoped>\n",
       "    .dataframe tbody tr th:only-of-type {\n",
       "        vertical-align: middle;\n",
       "    }\n",
       "\n",
       "    .dataframe tbody tr th {\n",
       "        vertical-align: top;\n",
       "    }\n",
       "\n",
       "    .dataframe thead th {\n",
       "        text-align: right;\n",
       "    }\n",
       "</style>\n",
       "<table border=\"1\" class=\"dataframe\">\n",
       "  <thead>\n",
       "    <tr style=\"text-align: right;\">\n",
       "      <th></th>\n",
       "      <th>Title</th>\n",
       "      <th>Link</th>\n",
       "    </tr>\n",
       "  </thead>\n",
       "  <tbody>\n",
       "    <tr>\n",
       "      <th>0</th>\n",
       "      <td>Bioinformatic and Software Developer</td>\n",
       "      <td>https://www.pigiame.co.ke/listings/bioinformat...</td>\n",
       "    </tr>\n",
       "    <tr>\n",
       "      <th>1</th>\n",
       "      <td>IT Sales - Cybersecurity &amp; Cloud</td>\n",
       "      <td>https://www.pigiame.co.ke/listings/it-sales-cy...</td>\n",
       "    </tr>\n",
       "    <tr>\n",
       "      <th>2</th>\n",
       "      <td>Executive, Support &amp; Services</td>\n",
       "      <td>https://www.pigiame.co.ke/listings/executive-s...</td>\n",
       "    </tr>\n",
       "    <tr>\n",
       "      <th>3</th>\n",
       "      <td>Data Engineer</td>\n",
       "      <td>https://www.pigiame.co.ke/listings/data-engine...</td>\n",
       "    </tr>\n",
       "    <tr>\n",
       "      <th>4</th>\n",
       "      <td>Software Development Trainer</td>\n",
       "      <td>https://www.pigiame.co.ke/listings/software-de...</td>\n",
       "    </tr>\n",
       "    <tr>\n",
       "      <th>5</th>\n",
       "      <td>Oracle Database Administrator</td>\n",
       "      <td>https://www.pigiame.co.ke/listings/oracle-data...</td>\n",
       "    </tr>\n",
       "    <tr>\n",
       "      <th>6</th>\n",
       "      <td>UI/UX &amp; Frontend Developer – Limuru, Kenya</td>\n",
       "      <td>https://www.pigiame.co.ke/listings/uiux-fronte...</td>\n",
       "    </tr>\n",
       "    <tr>\n",
       "      <th>7</th>\n",
       "      <td>IT Sales - Cybersecurity &amp; Cloud</td>\n",
       "      <td>https://www.pigiame.co.ke/listings/it-sales-cy...</td>\n",
       "    </tr>\n",
       "    <tr>\n",
       "      <th>8</th>\n",
       "      <td>Wordpress and Shopify Web Designer</td>\n",
       "      <td>https://www.pigiame.co.ke/listings/wordpress-a...</td>\n",
       "    </tr>\n",
       "    <tr>\n",
       "      <th>9</th>\n",
       "      <td>Entry level Software Developer</td>\n",
       "      <td>https://www.pigiame.co.ke/listings/entry-level...</td>\n",
       "    </tr>\n",
       "    <tr>\n",
       "      <th>0</th>\n",
       "      <td>Senior Full Stack Software Developer at Corpor...</td>\n",
       "      <td>https://www.myjobmag.co.ke/job/corporate-staff...</td>\n",
       "    </tr>\n",
       "    <tr>\n",
       "      <th>1</th>\n",
       "      <td>Infrastructure Operations Engineer at Safarico...</td>\n",
       "      <td>https://www.myjobmag.co.ke/job/infrastructure-...</td>\n",
       "    </tr>\n",
       "    <tr>\n",
       "      <th>2</th>\n",
       "      <td>Senior Associate - Digital Transformation at KPMG</td>\n",
       "      <td>https://www.myjobmag.co.ke/job/senior-associat...</td>\n",
       "    </tr>\n",
       "    <tr>\n",
       "      <th>3</th>\n",
       "      <td>Integration Specialist at KCB Bank Kenya</td>\n",
       "      <td>https://www.myjobmag.co.ke/job/integration-spe...</td>\n",
       "    </tr>\n",
       "    <tr>\n",
       "      <th>4</th>\n",
       "      <td>ICT Assistant at Finn Church Aid (FCA)</td>\n",
       "      <td>https://www.myjobmag.co.ke/job/ict-assistant-f...</td>\n",
       "    </tr>\n",
       "    <tr>\n",
       "      <th>5</th>\n",
       "      <td>Senior Full Stack Engineer at Koko Networks</td>\n",
       "      <td>https://www.myjobmag.co.ke/job/senior-full-sta...</td>\n",
       "    </tr>\n",
       "    <tr>\n",
       "      <th>6</th>\n",
       "      <td>IT Intern at PATH</td>\n",
       "      <td>https://www.myjobmag.co.ke/job/it-intern-path</td>\n",
       "    </tr>\n",
       "    <tr>\n",
       "      <th>7</th>\n",
       "      <td>Systems Developer at Cannon General Insurance ...</td>\n",
       "      <td>https://www.myjobmag.co.ke/job/systems-develop...</td>\n",
       "    </tr>\n",
       "    <tr>\n",
       "      <th>8</th>\n",
       "      <td>IT Help Desk Coordinator at Old Mutual Kenya</td>\n",
       "      <td>https://www.myjobmag.co.ke/job/it-help-desk-co...</td>\n",
       "    </tr>\n",
       "    <tr>\n",
       "      <th>9</th>\n",
       "      <td>Functional Developer –Share Point and Microsof...</td>\n",
       "      <td>https://www.myjobmag.co.ke/job/functional-deve...</td>\n",
       "    </tr>\n",
       "    <tr>\n",
       "      <th>10</th>\n",
       "      <td>Senior ICT Officer, Database Administrator at ...</td>\n",
       "      <td>https://www.myjobmag.co.ke/job/senior-ict-offi...</td>\n",
       "    </tr>\n",
       "    <tr>\n",
       "      <th>11</th>\n",
       "      <td>Information and Communication Technology Assis...</td>\n",
       "      <td>https://www.myjobmag.co.ke/job/kenya-livestock...</td>\n",
       "    </tr>\n",
       "    <tr>\n",
       "      <th>12</th>\n",
       "      <td>Manager ATM Services at KCB Bank Kenya</td>\n",
       "      <td>https://www.myjobmag.co.ke/job/manager-atm-ser...</td>\n",
       "    </tr>\n",
       "    <tr>\n",
       "      <th>13</th>\n",
       "      <td>Product Configuration Specialist at KCB Bank K...</td>\n",
       "      <td>https://www.myjobmag.co.ke/job/product-configu...</td>\n",
       "    </tr>\n",
       "    <tr>\n",
       "      <th>14</th>\n",
       "      <td>T24 CoE Specialist at KCB Bank Kenya</td>\n",
       "      <td>https://www.myjobmag.co.ke/job/t24-coe-special...</td>\n",
       "    </tr>\n",
       "    <tr>\n",
       "      <th>15</th>\n",
       "      <td>End User Support Engineer at DeRisk Technologies</td>\n",
       "      <td>https://www.myjobmag.co.ke/job/end-user-suppor...</td>\n",
       "    </tr>\n",
       "    <tr>\n",
       "      <th>16</th>\n",
       "      <td>Officer, IT Operations &amp; Service at SBM Bank</td>\n",
       "      <td>https://www.myjobmag.co.ke/job/officer-it-oper...</td>\n",
       "    </tr>\n",
       "    <tr>\n",
       "      <th>17</th>\n",
       "      <td>IT Audit Managers at KPMG</td>\n",
       "      <td>https://www.myjobmag.co.ke/job/it-audit-manage...</td>\n",
       "    </tr>\n",
       "    <tr>\n",
       "      <th>0</th>\n",
       "      <td>JAVA EE / JAVA 8 Developer with SQL Skills</td>\n",
       "      <td>https://www.kenyajob.com/job-vacancies-kenya/j...</td>\n",
       "    </tr>\n",
       "    <tr>\n",
       "      <th>1</th>\n",
       "      <td>Senior Freelance Web Designer</td>\n",
       "      <td>https://www.kenyajob.com/job-vacancies-kenya/s...</td>\n",
       "    </tr>\n",
       "    <tr>\n",
       "      <th>2</th>\n",
       "      <td>Accountant/Administrator</td>\n",
       "      <td>https://www.kenyajob.com/job-vacancies-kenya/a...</td>\n",
       "    </tr>\n",
       "    <tr>\n",
       "      <th>3</th>\n",
       "      <td>CCTV and Fire Alarms Systems Technician</td>\n",
       "      <td>https://www.kenyajob.com/job-vacancies-kenya/c...</td>\n",
       "    </tr>\n",
       "    <tr>\n",
       "      <th>4</th>\n",
       "      <td>CCTV and Fire Alarms Systems Technician</td>\n",
       "      <td>https://www.kenyajob.com/job-vacancies-kenya/c...</td>\n",
       "    </tr>\n",
       "    <tr>\n",
       "      <th>5</th>\n",
       "      <td>Information Technology Sales Specialist</td>\n",
       "      <td>https://www.kenyajob.com/job-vacancies-kenya/i...</td>\n",
       "    </tr>\n",
       "    <tr>\n",
       "      <th>6</th>\n",
       "      <td>AWS Cloud Architect (M/F)</td>\n",
       "      <td>https://www.kenyajob.com/job-vacancies-kenya/a...</td>\n",
       "    </tr>\n",
       "    <tr>\n",
       "      <th>7</th>\n",
       "      <td>AWS Solutions Architect (M/F)</td>\n",
       "      <td>https://www.kenyajob.com/job-vacancies-kenya/a...</td>\n",
       "    </tr>\n",
       "    <tr>\n",
       "      <th>8</th>\n",
       "      <td>AZURE Solutions Architect (M/F)</td>\n",
       "      <td>https://www.kenyajob.com/job-vacancies-kenya/a...</td>\n",
       "    </tr>\n",
       "    <tr>\n",
       "      <th>9</th>\n",
       "      <td>Cloud Architect (M/F)</td>\n",
       "      <td>https://www.kenyajob.com/job-vacancies-kenya/c...</td>\n",
       "    </tr>\n",
       "    <tr>\n",
       "      <th>10</th>\n",
       "      <td>Cloud Computing and Virtualization Engineer (M/F)</td>\n",
       "      <td>https://www.kenyajob.com/job-vacancies-kenya/c...</td>\n",
       "    </tr>\n",
       "    <tr>\n",
       "      <th>11</th>\n",
       "      <td>Cloud Engineer (M/F)</td>\n",
       "      <td>https://www.kenyajob.com/job-vacancies-kenya/c...</td>\n",
       "    </tr>\n",
       "    <tr>\n",
       "      <th>12</th>\n",
       "      <td>Cloud Microservices Architect (M/F)</td>\n",
       "      <td>https://www.kenyajob.com/job-vacancies-kenya/c...</td>\n",
       "    </tr>\n",
       "    <tr>\n",
       "      <th>13</th>\n",
       "      <td>Cloud System Administrator (M/F)</td>\n",
       "      <td>https://www.kenyajob.com/job-vacancies-kenya/c...</td>\n",
       "    </tr>\n",
       "    <tr>\n",
       "      <th>14</th>\n",
       "      <td>Cloud System Integrator (M/F)</td>\n",
       "      <td>https://www.kenyajob.com/job-vacancies-kenya/c...</td>\n",
       "    </tr>\n",
       "    <tr>\n",
       "      <th>15</th>\n",
       "      <td>Cyber Security Engineer (M/F)</td>\n",
       "      <td>https://www.kenyajob.com/job-vacancies-kenya/c...</td>\n",
       "    </tr>\n",
       "    <tr>\n",
       "      <th>16</th>\n",
       "      <td>DATASTAGE Architect (M/F)</td>\n",
       "      <td>https://www.kenyajob.com/job-vacancies-kenya/d...</td>\n",
       "    </tr>\n",
       "    <tr>\n",
       "      <th>17</th>\n",
       "      <td>GENESYS Architect (M/F)</td>\n",
       "      <td>https://www.kenyajob.com/job-vacancies-kenya/g...</td>\n",
       "    </tr>\n",
       "    <tr>\n",
       "      <th>18</th>\n",
       "      <td>Network Architect (M/F)</td>\n",
       "      <td>https://www.kenyajob.com/job-vacancies-kenya/n...</td>\n",
       "    </tr>\n",
       "    <tr>\n",
       "      <th>19</th>\n",
       "      <td>ANGULAR Developer (M/F)</td>\n",
       "      <td>https://www.kenyajob.com/job-vacancies-kenya/a...</td>\n",
       "    </tr>\n",
       "    <tr>\n",
       "      <th>20</th>\n",
       "      <td>DevOps Engineer (M/F)</td>\n",
       "      <td>https://www.kenyajob.com/job-vacancies-kenya/d...</td>\n",
       "    </tr>\n",
       "    <tr>\n",
       "      <th>21</th>\n",
       "      <td>DOTNET Developer (M/F)</td>\n",
       "      <td>https://www.kenyajob.com/job-vacancies-kenya/d...</td>\n",
       "    </tr>\n",
       "    <tr>\n",
       "      <th>22</th>\n",
       "      <td>IOS Developer (M/F)</td>\n",
       "      <td>https://www.kenyajob.com/job-vacancies-kenya/i...</td>\n",
       "    </tr>\n",
       "    <tr>\n",
       "      <th>23</th>\n",
       "      <td>JAVA Developer (M/F)</td>\n",
       "      <td>https://www.kenyajob.com/job-vacancies-kenya/j...</td>\n",
       "    </tr>\n",
       "    <tr>\n",
       "      <th>24</th>\n",
       "      <td>JAVA JEE Developer (M/F)</td>\n",
       "      <td>https://www.kenyajob.com/job-vacancies-kenya/j...</td>\n",
       "    </tr>\n",
       "  </tbody>\n",
       "</table>\n",
       "</div>"
      ],
      "text/plain": [
       "                                                Title  \\\n",
       "0                Bioinformatic and Software Developer   \n",
       "1                    IT Sales - Cybersecurity & Cloud   \n",
       "2                       Executive, Support & Services   \n",
       "3                                       Data Engineer   \n",
       "4                        Software Development Trainer   \n",
       "5                       Oracle Database Administrator   \n",
       "6          UI/UX & Frontend Developer – Limuru, Kenya   \n",
       "7                    IT Sales - Cybersecurity & Cloud   \n",
       "8                  Wordpress and Shopify Web Designer   \n",
       "9                      Entry level Software Developer   \n",
       "0   Senior Full Stack Software Developer at Corpor...   \n",
       "1   Infrastructure Operations Engineer at Safarico...   \n",
       "2   Senior Associate - Digital Transformation at KPMG   \n",
       "3            Integration Specialist at KCB Bank Kenya   \n",
       "4              ICT Assistant at Finn Church Aid (FCA)   \n",
       "5         Senior Full Stack Engineer at Koko Networks   \n",
       "6                                   IT Intern at PATH   \n",
       "7   Systems Developer at Cannon General Insurance ...   \n",
       "8        IT Help Desk Coordinator at Old Mutual Kenya   \n",
       "9   Functional Developer –Share Point and Microsof...   \n",
       "10  Senior ICT Officer, Database Administrator at ...   \n",
       "11  Information and Communication Technology Assis...   \n",
       "12             Manager ATM Services at KCB Bank Kenya   \n",
       "13  Product Configuration Specialist at KCB Bank K...   \n",
       "14               T24 CoE Specialist at KCB Bank Kenya   \n",
       "15   End User Support Engineer at DeRisk Technologies   \n",
       "16       Officer, IT Operations & Service at SBM Bank   \n",
       "17                          IT Audit Managers at KPMG   \n",
       "0          JAVA EE / JAVA 8 Developer with SQL Skills   \n",
       "1                       Senior Freelance Web Designer   \n",
       "2                            Accountant/Administrator   \n",
       "3             CCTV and Fire Alarms Systems Technician   \n",
       "4             CCTV and Fire Alarms Systems Technician   \n",
       "5             Information Technology Sales Specialist   \n",
       "6                           AWS Cloud Architect (M/F)   \n",
       "7                       AWS Solutions Architect (M/F)   \n",
       "8                     AZURE Solutions Architect (M/F)   \n",
       "9                               Cloud Architect (M/F)   \n",
       "10  Cloud Computing and Virtualization Engineer (M/F)   \n",
       "11                               Cloud Engineer (M/F)   \n",
       "12                Cloud Microservices Architect (M/F)   \n",
       "13                   Cloud System Administrator (M/F)   \n",
       "14                      Cloud System Integrator (M/F)   \n",
       "15                      Cyber Security Engineer (M/F)   \n",
       "16                          DATASTAGE Architect (M/F)   \n",
       "17                            GENESYS Architect (M/F)   \n",
       "18                            Network Architect (M/F)   \n",
       "19                            ANGULAR Developer (M/F)   \n",
       "20                              DevOps Engineer (M/F)   \n",
       "21                             DOTNET Developer (M/F)   \n",
       "22                                IOS Developer (M/F)   \n",
       "23                               JAVA Developer (M/F)   \n",
       "24                           JAVA JEE Developer (M/F)   \n",
       "\n",
       "                                                 Link  \n",
       "0   https://www.pigiame.co.ke/listings/bioinformat...  \n",
       "1   https://www.pigiame.co.ke/listings/it-sales-cy...  \n",
       "2   https://www.pigiame.co.ke/listings/executive-s...  \n",
       "3   https://www.pigiame.co.ke/listings/data-engine...  \n",
       "4   https://www.pigiame.co.ke/listings/software-de...  \n",
       "5   https://www.pigiame.co.ke/listings/oracle-data...  \n",
       "6   https://www.pigiame.co.ke/listings/uiux-fronte...  \n",
       "7   https://www.pigiame.co.ke/listings/it-sales-cy...  \n",
       "8   https://www.pigiame.co.ke/listings/wordpress-a...  \n",
       "9   https://www.pigiame.co.ke/listings/entry-level...  \n",
       "0   https://www.myjobmag.co.ke/job/corporate-staff...  \n",
       "1   https://www.myjobmag.co.ke/job/infrastructure-...  \n",
       "2   https://www.myjobmag.co.ke/job/senior-associat...  \n",
       "3   https://www.myjobmag.co.ke/job/integration-spe...  \n",
       "4   https://www.myjobmag.co.ke/job/ict-assistant-f...  \n",
       "5   https://www.myjobmag.co.ke/job/senior-full-sta...  \n",
       "6       https://www.myjobmag.co.ke/job/it-intern-path  \n",
       "7   https://www.myjobmag.co.ke/job/systems-develop...  \n",
       "8   https://www.myjobmag.co.ke/job/it-help-desk-co...  \n",
       "9   https://www.myjobmag.co.ke/job/functional-deve...  \n",
       "10  https://www.myjobmag.co.ke/job/senior-ict-offi...  \n",
       "11  https://www.myjobmag.co.ke/job/kenya-livestock...  \n",
       "12  https://www.myjobmag.co.ke/job/manager-atm-ser...  \n",
       "13  https://www.myjobmag.co.ke/job/product-configu...  \n",
       "14  https://www.myjobmag.co.ke/job/t24-coe-special...  \n",
       "15  https://www.myjobmag.co.ke/job/end-user-suppor...  \n",
       "16  https://www.myjobmag.co.ke/job/officer-it-oper...  \n",
       "17  https://www.myjobmag.co.ke/job/it-audit-manage...  \n",
       "0   https://www.kenyajob.com/job-vacancies-kenya/j...  \n",
       "1   https://www.kenyajob.com/job-vacancies-kenya/s...  \n",
       "2   https://www.kenyajob.com/job-vacancies-kenya/a...  \n",
       "3   https://www.kenyajob.com/job-vacancies-kenya/c...  \n",
       "4   https://www.kenyajob.com/job-vacancies-kenya/c...  \n",
       "5   https://www.kenyajob.com/job-vacancies-kenya/i...  \n",
       "6   https://www.kenyajob.com/job-vacancies-kenya/a...  \n",
       "7   https://www.kenyajob.com/job-vacancies-kenya/a...  \n",
       "8   https://www.kenyajob.com/job-vacancies-kenya/a...  \n",
       "9   https://www.kenyajob.com/job-vacancies-kenya/c...  \n",
       "10  https://www.kenyajob.com/job-vacancies-kenya/c...  \n",
       "11  https://www.kenyajob.com/job-vacancies-kenya/c...  \n",
       "12  https://www.kenyajob.com/job-vacancies-kenya/c...  \n",
       "13  https://www.kenyajob.com/job-vacancies-kenya/c...  \n",
       "14  https://www.kenyajob.com/job-vacancies-kenya/c...  \n",
       "15  https://www.kenyajob.com/job-vacancies-kenya/c...  \n",
       "16  https://www.kenyajob.com/job-vacancies-kenya/d...  \n",
       "17  https://www.kenyajob.com/job-vacancies-kenya/g...  \n",
       "18  https://www.kenyajob.com/job-vacancies-kenya/n...  \n",
       "19  https://www.kenyajob.com/job-vacancies-kenya/a...  \n",
       "20  https://www.kenyajob.com/job-vacancies-kenya/d...  \n",
       "21  https://www.kenyajob.com/job-vacancies-kenya/d...  \n",
       "22  https://www.kenyajob.com/job-vacancies-kenya/i...  \n",
       "23  https://www.kenyajob.com/job-vacancies-kenya/j...  \n",
       "24  https://www.kenyajob.com/job-vacancies-kenya/j...  "
      ]
     },
     "execution_count": 61,
     "metadata": {},
     "output_type": "execute_result"
    }
   ],
   "source": [
    "# concatenate the tables\n",
    "df_job_search = pd.concat([df_pigiame, df_myjob,df_kenyajob], axis=0)\n",
    "\n",
    "df_job_search"
   ]
  },
  {
   "cell_type": "code",
   "execution_count": null,
   "metadata": {},
   "outputs": [],
   "source": []
  }
 ],
 "metadata": {
  "colab": {
   "collapsed_sections": [
    "Tcso2rJCNAGq",
    "CRmt1rRHgZRG",
    "h7iRb8U8hHNw",
    "_OxuOAIXhPl5",
    "7ePXABAihaKn"
   ],
   "provenance": [],
   "toc_visible": true
  },
  "kernelspec": {
   "display_name": "Python 3 (ipykernel)",
   "language": "python",
   "name": "python3"
  },
  "language_info": {
   "codemirror_mode": {
    "name": "ipython",
    "version": 3
   },
   "file_extension": ".py",
   "mimetype": "text/x-python",
   "name": "python",
   "nbconvert_exporter": "python",
   "pygments_lexer": "ipython3",
   "version": "3.10.8"
  }
 },
 "nbformat": 4,
 "nbformat_minor": 1
}
